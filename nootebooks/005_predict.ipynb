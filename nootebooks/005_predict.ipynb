{
 "cells": [
  {
   "cell_type": "code",
   "execution_count": 16,
   "id": "829f4c08",
   "metadata": {},
   "outputs": [
    {
     "name": "stdout",
     "output_type": "stream",
     "text": [
      "The autoreload extension is already loaded. To reload it, use:\n",
      "  %reload_ext autoreload\n"
     ]
    },
    {
     "name": "stderr",
     "output_type": "stream",
     "text": [
      "<unknown>:11: SyntaxWarning: invalid escape sequence '\\p'\n",
      "<unknown>:11: SyntaxWarning: invalid escape sequence '\\p'\n"
     ]
    }
   ],
   "source": [
    "import sys\n",
    "import os\n",
    "\n",
    "%load_ext autoreload\n",
    "%autoreload 2\n",
    "\n",
    "# Usar el directorio de trabajo actual en lugar de __file__\n",
    "path = os.getcwd()\n",
    "sys.path.insert(0, os.path.join(path, '..', 'src'))\n",
    "import joblib\n",
    "import pandas as pd\n",
    "\n",
    "import data_preprocesing as dp"
   ]
  },
  {
   "cell_type": "code",
   "execution_count": 22,
   "id": "915cc00a",
   "metadata": {},
   "outputs": [],
   "source": [
    "\n",
    "  # Ajusta si cambia la ruta\n",
    "\n",
    "# 1. Cargar base de validación\n",
    "df_val = pd.read_csv(r'..\\data\\raw\\base_validacion.csv', sep='|', encoding='utf-8')\n",
    "\n",
    "# 2. Preprocesamiento sin limpieza ni balanceo\n",
    "preprocesor = dp.ModelPreprocessor(apply_cleaning=True)\n",
    "X_val, _ = preprocesor.transform(df_val)\n",
    "\n",
    "# 3. Cargar modelo\n",
    "model = joblib.load(r'..\\models\\model.pkl')\n",
    "\n",
    "# 4. Predecir\n",
    "y_pred_proba = model.predict_proba(X_val)[:, 1]\n",
    "\n",
    "# 5. Función de clasificación de grupo de riesgo\n",
    "def asignar_grupo(prob):\n",
    "    if 0 <= prob <= 0.01:\n",
    "        return 't1'\n",
    "    elif 0.01 < prob <= 0.015:\n",
    "        return 't2'\n",
    "    elif 0.015 < prob <= 0.03:\n",
    "        return 't3'\n",
    "    elif 0.03 < prob <= 0.045:\n",
    "        return 't4'\n",
    "    elif 0.045 < prob <= 0.08:\n",
    "        return 't5'\n",
    "    elif 0.08 < prob <= 0.15:\n",
    "        return 't6'\n",
    "    elif 0.15 < prob <= 0.30:\n",
    "        return 't7'\n",
    "    elif 0.30 < prob <= 1.0:\n",
    "        return 't8'\n",
    "    else:\n",
    "        return 'fuera_rango'\n",
    "\n",
    "# 6. Construir DataFrame de respuesta alineado al índice procesado\n",
    "df_respuesta = pd.DataFrame({\n",
    "    'num_doc': df_val.loc[X_val.index, 'num_doc'].values,\n",
    "    'probabilidad': y_pred_proba\n",
    "})\n",
    "df_respuesta['grupo_riesgo'] = df_respuesta['probabilidad'].apply(asignar_grupo)\n",
    "\n",
    "# 7. Validación\n",
    "assert df_respuesta['grupo_riesgo'].isin(['t1','t2','t3','t4','t5','t6','t7','t8']).all(), \"❌ Hay categorías fuera de rango\"\n",
    "\n",
    "# 8. Guardar CSV\n",
    "# df_respuesta.to_csv('../entregables/base_prueba_calificada.csv', index=False)\n"
   ]
  },
  {
   "cell_type": "code",
   "execution_count": 24,
   "id": "dbf9bcc9",
   "metadata": {},
   "outputs": [
    {
     "data": {
      "text/html": [
       "<div>\n",
       "<style scoped>\n",
       "    .dataframe tbody tr th:only-of-type {\n",
       "        vertical-align: middle;\n",
       "    }\n",
       "\n",
       "    .dataframe tbody tr th {\n",
       "        vertical-align: top;\n",
       "    }\n",
       "\n",
       "    .dataframe thead th {\n",
       "        text-align: right;\n",
       "    }\n",
       "</style>\n",
       "<table border=\"1\" class=\"dataframe\">\n",
       "  <thead>\n",
       "    <tr style=\"text-align: right;\">\n",
       "      <th></th>\n",
       "      <th>grupo_riesgo</th>\n",
       "      <th>cantidad</th>\n",
       "    </tr>\n",
       "  </thead>\n",
       "  <tbody>\n",
       "    <tr>\n",
       "      <th>0</th>\n",
       "      <td>t4</td>\n",
       "      <td>2</td>\n",
       "    </tr>\n",
       "    <tr>\n",
       "      <th>1</th>\n",
       "      <td>t5</td>\n",
       "      <td>20</td>\n",
       "    </tr>\n",
       "    <tr>\n",
       "      <th>2</th>\n",
       "      <td>t6</td>\n",
       "      <td>39</td>\n",
       "    </tr>\n",
       "    <tr>\n",
       "      <th>3</th>\n",
       "      <td>t7</td>\n",
       "      <td>98</td>\n",
       "    </tr>\n",
       "    <tr>\n",
       "      <th>4</th>\n",
       "      <td>t8</td>\n",
       "      <td>441</td>\n",
       "    </tr>\n",
       "  </tbody>\n",
       "</table>\n",
       "</div>"
      ],
      "text/plain": [
       "  grupo_riesgo  cantidad\n",
       "0           t4         2\n",
       "1           t5        20\n",
       "2           t6        39\n",
       "3           t7        98\n",
       "4           t8       441"
      ]
     },
     "execution_count": 24,
     "metadata": {},
     "output_type": "execute_result"
    }
   ],
   "source": [
    "df_respuesta.groupby('grupo_riesgo').size().to_frame('cantidad').reset_index().sort_values(by='grupo_riesgo')"
   ]
  }
 ],
 "metadata": {
  "kernelspec": {
   "display_name": "env",
   "language": "python",
   "name": "python3"
  },
  "language_info": {
   "codemirror_mode": {
    "name": "ipython",
    "version": 3
   },
   "file_extension": ".py",
   "mimetype": "text/x-python",
   "name": "python",
   "nbconvert_exporter": "python",
   "pygments_lexer": "ipython3",
   "version": "3.12.7"
  }
 },
 "nbformat": 4,
 "nbformat_minor": 5
}
